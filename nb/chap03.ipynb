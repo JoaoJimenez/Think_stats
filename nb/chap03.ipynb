{
  "cells": [
    {
      "cell_type": "markdown",
      "id": "418e407e",
      "metadata": {
        "id": "418e407e"
      },
      "source": [
        "The third edition of *Think Stats* is available now from [Bookshop.org](https://bookshop.org/a/98697/9781098190255) and [Amazon](https://amzn.to/42lmxwu) (those are affiliate links). If you are enjoying the free, online version, consider [buying me a coffee](https://buymeacoffee.com/allendowney)."
      ]
    },
    {
      "cell_type": "markdown",
      "id": "259c89bc",
      "metadata": {
        "id": "259c89bc"
      },
      "source": [
        "# Probability Mass Functions\n",
        "\n",
        "In the previous chapter we represented distributions using a `FreqTab` object, which contains a set of values and their frequencies -- that is, the number of times each value appears.\n",
        "In this chapter we'll introduce another way to describe a distribution, a probability mass function (PMF).\n",
        "\n",
        "To represent a PMF, we'll use an object called a `Pmf`, which contains a set of values and their probabilities.\n",
        "We'll use `Pmf` objects to compute the mean and variance of a distribution, and the skewness, which indicates whether it is skewed to the left or right.\n",
        "Finally, we will explore how a phenomenon called the \"inspection paradox\" can cause a sample to give a biased view of a distribution."
      ]
    },
    {
      "cell_type": "markdown",
      "id": "11b3a5ef",
      "metadata": {
        "tags": [],
        "id": "11b3a5ef"
      },
      "source": [
        "[Click here to run this notebook on Colab](https://colab.research.google.com/github/AllenDowney/ThinkStats/blob/v3/nb/chap03.ipynb)."
      ]
    },
    {
      "cell_type": "code",
      "execution_count": 1,
      "id": "c4578587",
      "metadata": {
        "tags": [],
        "colab": {
          "base_uri": "https://localhost:8080/"
        },
        "id": "c4578587",
        "outputId": "740d7446-054c-4dbf-8c94-093a340de543"
      },
      "outputs": [
        {
          "output_type": "stream",
          "name": "stdout",
          "text": [
            "Downloaded thinkstats.py\n"
          ]
        }
      ],
      "source": [
        "from os.path import basename, exists\n",
        "\n",
        "\n",
        "def download(url):\n",
        "    filename = basename(url)\n",
        "    if not exists(filename):\n",
        "        from urllib.request import urlretrieve\n",
        "\n",
        "        local, _ = urlretrieve(url, filename)\n",
        "        print(\"Downloaded \" + local)\n",
        "\n",
        "\n",
        "download(\"https://github.com/AllenDowney/ThinkStats/raw/v3/nb/thinkstats.py\")"
      ]
    },
    {
      "cell_type": "code",
      "execution_count": 2,
      "id": "f66668e0",
      "metadata": {
        "tags": [],
        "colab": {
          "base_uri": "https://localhost:8080/"
        },
        "id": "f66668e0",
        "outputId": "d83810d2-6f1f-415e-faf4-d464ad6086c8"
      },
      "outputs": [
        {
          "output_type": "stream",
          "name": "stdout",
          "text": [
            "Collecting empiricaldist\n",
            "  Downloading empiricaldist-0.9.0.tar.gz (14 kB)\n",
            "  Installing build dependencies ... \u001b[?25l\u001b[?25hdone\n",
            "  Getting requirements to build wheel ... \u001b[?25l\u001b[?25hdone\n",
            "  Preparing metadata (pyproject.toml) ... \u001b[?25l\u001b[?25hdone\n",
            "Requirement already satisfied: matplotlib in /usr/local/lib/python3.12/dist-packages (from empiricaldist) (3.10.0)\n",
            "Requirement already satisfied: numpy in /usr/local/lib/python3.12/dist-packages (from empiricaldist) (2.0.2)\n",
            "Requirement already satisfied: pandas in /usr/local/lib/python3.12/dist-packages (from empiricaldist) (2.2.2)\n",
            "Requirement already satisfied: scipy in /usr/local/lib/python3.12/dist-packages (from empiricaldist) (1.16.1)\n",
            "Requirement already satisfied: contourpy>=1.0.1 in /usr/local/lib/python3.12/dist-packages (from matplotlib->empiricaldist) (1.3.3)\n",
            "Requirement already satisfied: cycler>=0.10 in /usr/local/lib/python3.12/dist-packages (from matplotlib->empiricaldist) (0.12.1)\n",
            "Requirement already satisfied: fonttools>=4.22.0 in /usr/local/lib/python3.12/dist-packages (from matplotlib->empiricaldist) (4.59.1)\n",
            "Requirement already satisfied: kiwisolver>=1.3.1 in /usr/local/lib/python3.12/dist-packages (from matplotlib->empiricaldist) (1.4.9)\n",
            "Requirement already satisfied: packaging>=20.0 in /usr/local/lib/python3.12/dist-packages (from matplotlib->empiricaldist) (25.0)\n",
            "Requirement already satisfied: pillow>=8 in /usr/local/lib/python3.12/dist-packages (from matplotlib->empiricaldist) (11.3.0)\n",
            "Requirement already satisfied: pyparsing>=2.3.1 in /usr/local/lib/python3.12/dist-packages (from matplotlib->empiricaldist) (3.2.3)\n",
            "Requirement already satisfied: python-dateutil>=2.7 in /usr/local/lib/python3.12/dist-packages (from matplotlib->empiricaldist) (2.9.0.post0)\n",
            "Requirement already satisfied: pytz>=2020.1 in /usr/local/lib/python3.12/dist-packages (from pandas->empiricaldist) (2025.2)\n",
            "Requirement already satisfied: tzdata>=2022.7 in /usr/local/lib/python3.12/dist-packages (from pandas->empiricaldist) (2025.2)\n",
            "Requirement already satisfied: six>=1.5 in /usr/local/lib/python3.12/dist-packages (from python-dateutil>=2.7->matplotlib->empiricaldist) (1.17.0)\n",
            "Building wheels for collected packages: empiricaldist\n",
            "  Building wheel for empiricaldist (pyproject.toml) ... \u001b[?25l\u001b[?25hdone\n",
            "  Created wheel for empiricaldist: filename=empiricaldist-0.9.0-py3-none-any.whl size=14296 sha256=f9c0a4f87ce59fdf759d9cc8042bb50f6712afb832c357566e0a0188dc9215f4\n",
            "  Stored in directory: /root/.cache/pip/wheels/26/56/da/ea90b6b66dc5e72379a64e2819815066873f00c1350126e876\n",
            "Successfully built empiricaldist\n",
            "Installing collected packages: empiricaldist\n",
            "Successfully installed empiricaldist-0.9.0\n"
          ]
        }
      ],
      "source": [
        "try:\n",
        "    import empiricaldist\n",
        "except ImportError:\n",
        "    %pip install empiricaldist"
      ]
    },
    {
      "cell_type": "code",
      "execution_count": 3,
      "id": "e47f1afd",
      "metadata": {
        "tags": [],
        "id": "e47f1afd"
      },
      "outputs": [],
      "source": [
        "import numpy as np\n",
        "import pandas as pd\n",
        "import matplotlib.pyplot as plt\n",
        "\n",
        "from thinkstats import decorate"
      ]
    },
    {
      "cell_type": "markdown",
      "id": "5f56b6a7",
      "metadata": {
        "id": "5f56b6a7"
      },
      "source": [
        "## PMFs\n",
        "\n",
        "A `Pmf` object is like a `FreqTab` that contains probabilities instead of frequencies.\n",
        "So one way to make a `Pmf` is to start with a `FreqTab`.\n",
        "For example, here's a `FreqTab` that represents the distribution of values in a short sequence."
      ]
    },
    {
      "cell_type": "code",
      "execution_count": 4,
      "id": "8f418fed",
      "metadata": {
        "colab": {
          "base_uri": "https://localhost:8080/",
          "height": 192
        },
        "id": "8f418fed",
        "outputId": "dc9ecc27-c4a4-4a05-ceae-845164fdc66a"
      },
      "outputs": [
        {
          "output_type": "execute_result",
          "data": {
            "text/plain": [
              "1    1\n",
              "2    2\n",
              "3    1\n",
              "5    1\n",
              "Name: , dtype: int64"
            ],
            "text/html": [
              "<div>\n",
              "<style scoped>\n",
              "    .dataframe tbody tr th:only-of-type {\n",
              "        vertical-align: middle;\n",
              "    }\n",
              "\n",
              "    .dataframe tbody tr th {\n",
              "        vertical-align: top;\n",
              "    }\n",
              "\n",
              "    .dataframe thead th {\n",
              "        text-align: right;\n",
              "    }\n",
              "</style>\n",
              "<table border=\"1\" class=\"dataframe\">\n",
              "  <thead>\n",
              "    <tr style=\"text-align: right;\">\n",
              "      <th></th>\n",
              "      <th></th>\n",
              "    </tr>\n",
              "  </thead>\n",
              "  <tbody>\n",
              "    <tr>\n",
              "      <th>1</th>\n",
              "      <td>1</td>\n",
              "    </tr>\n",
              "    <tr>\n",
              "      <th>2</th>\n",
              "      <td>2</td>\n",
              "    </tr>\n",
              "    <tr>\n",
              "      <th>3</th>\n",
              "      <td>1</td>\n",
              "    </tr>\n",
              "    <tr>\n",
              "      <th>5</th>\n",
              "      <td>1</td>\n",
              "    </tr>\n",
              "  </tbody>\n",
              "</table>\n",
              "</div><br><label><b>dtype:</b> int64</label>"
            ]
          },
          "metadata": {},
          "execution_count": 4
        }
      ],
      "source": [
        "from empiricaldist import FreqTab\n",
        "\n",
        "ftab = FreqTab.from_seq([1, 2, 2, 3, 5])\n",
        "ftab"
      ]
    },
    {
      "cell_type": "markdown",
      "id": "f70e8df4",
      "metadata": {
        "id": "f70e8df4"
      },
      "source": [
        "The sum of the frequencies is the size of the original sequence."
      ]
    },
    {
      "cell_type": "code",
      "execution_count": 5,
      "id": "8e1ee1ca",
      "metadata": {
        "colab": {
          "base_uri": "https://localhost:8080/"
        },
        "id": "8e1ee1ca",
        "outputId": "5218b9c0-94b5-4141-e06a-181a19383864"
      },
      "outputs": [
        {
          "output_type": "execute_result",
          "data": {
            "text/plain": [
              "np.int64(5)"
            ]
          },
          "metadata": {},
          "execution_count": 5
        }
      ],
      "source": [
        "n = ftab.sum()\n",
        "n"
      ]
    },
    {
      "cell_type": "markdown",
      "id": "eeed5af8",
      "metadata": {
        "id": "eeed5af8"
      },
      "source": [
        "If we divide the frequencies by `n`, they represent proportions, rather than counts."
      ]
    },
    {
      "cell_type": "code",
      "execution_count": 6,
      "id": "07dab3d2",
      "metadata": {
        "colab": {
          "base_uri": "https://localhost:8080/",
          "height": 192
        },
        "id": "07dab3d2",
        "outputId": "555e1cdd-444c-492a-ee8c-acda07c21fba"
      },
      "outputs": [
        {
          "output_type": "execute_result",
          "data": {
            "text/plain": [
              "1    0.2\n",
              "2    0.4\n",
              "3    0.2\n",
              "5    0.2\n",
              "Name: , dtype: float64"
            ],
            "text/html": [
              "<div>\n",
              "<style scoped>\n",
              "    .dataframe tbody tr th:only-of-type {\n",
              "        vertical-align: middle;\n",
              "    }\n",
              "\n",
              "    .dataframe tbody tr th {\n",
              "        vertical-align: top;\n",
              "    }\n",
              "\n",
              "    .dataframe thead th {\n",
              "        text-align: right;\n",
              "    }\n",
              "</style>\n",
              "<table border=\"1\" class=\"dataframe\">\n",
              "  <thead>\n",
              "    <tr style=\"text-align: right;\">\n",
              "      <th></th>\n",
              "      <th></th>\n",
              "    </tr>\n",
              "  </thead>\n",
              "  <tbody>\n",
              "    <tr>\n",
              "      <th>1</th>\n",
              "      <td>0.2</td>\n",
              "    </tr>\n",
              "    <tr>\n",
              "      <th>2</th>\n",
              "      <td>0.4</td>\n",
              "    </tr>\n",
              "    <tr>\n",
              "      <th>3</th>\n",
              "      <td>0.2</td>\n",
              "    </tr>\n",
              "    <tr>\n",
              "      <th>5</th>\n",
              "      <td>0.2</td>\n",
              "    </tr>\n",
              "  </tbody>\n",
              "</table>\n",
              "</div><br><label><b>dtype:</b> float64</label>"
            ]
          },
          "metadata": {},
          "execution_count": 6
        }
      ],
      "source": [
        "pmf = ftab / n\n",
        "pmf"
      ]
    },
    {
      "cell_type": "markdown",
      "id": "1e0a7d3c",
      "metadata": {
        "id": "1e0a7d3c"
      },
      "source": [
        "This result indicates that 20% of the values in the sequence are 1, 40% are 2, and so on.\n",
        "\n",
        "We can also think of these proportions as probabilities in the following sense: if we choose a random value from the original sequence, the probability we choose the value 1 is 0.2, the probability we choose the value 2 is 0.4, and so on.\n",
        "\n",
        "Because we divided through by `n`, the sum of the probabilities is 1, which means that this distribution is **normalized**."
      ]
    },
    {
      "cell_type": "code",
      "execution_count": 7,
      "id": "af296dc9",
      "metadata": {
        "colab": {
          "base_uri": "https://localhost:8080/"
        },
        "id": "af296dc9",
        "outputId": "b89a885a-22ac-491e-b946-6137c31349f0"
      },
      "outputs": [
        {
          "output_type": "execute_result",
          "data": {
            "text/plain": [
              "np.float64(1.0)"
            ]
          },
          "metadata": {},
          "execution_count": 7
        }
      ],
      "source": [
        "pmf.sum()"
      ]
    },
    {
      "cell_type": "markdown",
      "id": "c81d485a",
      "metadata": {
        "id": "c81d485a"
      },
      "source": [
        "A normalized `FreqTab` object represents a **probability mass function** (PMF), so-called because probabilities associated with discrete values are also called \"probability masses\".\n",
        "\n",
        "The `empiricaldist` library provides a `Pmf` object that represents a probability mass function, so instead of creating a `FreqTab` object and then normalizing it, we can create a `Pmf` object directly."
      ]
    },
    {
      "cell_type": "code",
      "execution_count": 8,
      "id": "3fff30ec",
      "metadata": {
        "colab": {
          "base_uri": "https://localhost:8080/",
          "height": 192
        },
        "id": "3fff30ec",
        "outputId": "46289dd1-a67b-48d4-a635-0e316de8ff8f"
      },
      "outputs": [
        {
          "output_type": "execute_result",
          "data": {
            "text/plain": [
              "1    0.2\n",
              "2    0.4\n",
              "3    0.2\n",
              "5    0.2\n",
              "Name: , dtype: float64"
            ],
            "text/html": [
              "<div>\n",
              "<style scoped>\n",
              "    .dataframe tbody tr th:only-of-type {\n",
              "        vertical-align: middle;\n",
              "    }\n",
              "\n",
              "    .dataframe tbody tr th {\n",
              "        vertical-align: top;\n",
              "    }\n",
              "\n",
              "    .dataframe thead th {\n",
              "        text-align: right;\n",
              "    }\n",
              "</style>\n",
              "<table border=\"1\" class=\"dataframe\">\n",
              "  <thead>\n",
              "    <tr style=\"text-align: right;\">\n",
              "      <th></th>\n",
              "      <th></th>\n",
              "    </tr>\n",
              "  </thead>\n",
              "  <tbody>\n",
              "    <tr>\n",
              "      <th>1</th>\n",
              "      <td>0.2</td>\n",
              "    </tr>\n",
              "    <tr>\n",
              "      <th>2</th>\n",
              "      <td>0.4</td>\n",
              "    </tr>\n",
              "    <tr>\n",
              "      <th>3</th>\n",
              "      <td>0.2</td>\n",
              "    </tr>\n",
              "    <tr>\n",
              "      <th>5</th>\n",
              "      <td>0.2</td>\n",
              "    </tr>\n",
              "  </tbody>\n",
              "</table>\n",
              "</div><br><label><b>dtype:</b> float64</label>"
            ]
          },
          "metadata": {},
          "execution_count": 8
        }
      ],
      "source": [
        "from empiricaldist import Pmf\n",
        "\n",
        "pmf = Pmf.from_seq([1, 2, 2, 3, 5])\n",
        "pmf"
      ]
    },
    {
      "cell_type": "markdown",
      "id": "d8428fe8",
      "metadata": {
        "id": "d8428fe8"
      },
      "source": [
        "The `Pmf` is normalized so the total probability is 1."
      ]
    },
    {
      "cell_type": "code",
      "execution_count": 9,
      "id": "5e01b656",
      "metadata": {
        "colab": {
          "base_uri": "https://localhost:8080/"
        },
        "id": "5e01b656",
        "outputId": "f6cb26be-c176-481d-d4c7-82881ae83232"
      },
      "outputs": [
        {
          "output_type": "execute_result",
          "data": {
            "text/plain": [
              "np.float64(1.0)"
            ]
          },
          "metadata": {},
          "execution_count": 9
        }
      ],
      "source": [
        "pmf.sum()"
      ]
    },
    {
      "cell_type": "markdown",
      "id": "4cc44f90",
      "metadata": {
        "id": "4cc44f90"
      },
      "source": [
        "`Pmf` and `FreqTab` objects are similar in many ways.\n",
        "To look up the probability associated with a value, we can use the bracket operator."
      ]
    },
    {
      "cell_type": "code",
      "execution_count": 10,
      "id": "41280992",
      "metadata": {
        "colab": {
          "base_uri": "https://localhost:8080/"
        },
        "id": "41280992",
        "outputId": "6d4a44ac-57ed-4ae8-8380-0e7b79f7569f"
      },
      "outputs": [
        {
          "output_type": "execute_result",
          "data": {
            "text/plain": [
              "np.float64(0.4)"
            ]
          },
          "metadata": {},
          "execution_count": 10
        }
      ],
      "source": [
        "pmf[2]"
      ]
    },
    {
      "cell_type": "markdown",
      "id": "ff05014f",
      "metadata": {
        "id": "ff05014f"
      },
      "source": [
        "Or use parentheses to call the `Pmf` like a function."
      ]
    },
    {
      "cell_type": "code",
      "execution_count": 11,
      "id": "2ac2919b",
      "metadata": {
        "colab": {
          "base_uri": "https://localhost:8080/"
        },
        "id": "2ac2919b",
        "outputId": "ef5d51b9-33c7-45b5-c8a8-2530f9d04ce9"
      },
      "outputs": [
        {
          "output_type": "execute_result",
          "data": {
            "text/plain": [
              "np.float64(0.4)"
            ]
          },
          "metadata": {},
          "execution_count": 11
        }
      ],
      "source": [
        "pmf(2)"
      ]
    },
    {
      "cell_type": "markdown",
      "id": "98af6144",
      "metadata": {
        "id": "98af6144"
      },
      "source": [
        "To assign a probability to a value, you have to use the bracket operator."
      ]
    },
    {
      "cell_type": "code",
      "execution_count": 12,
      "id": "b53f5742",
      "metadata": {
        "colab": {
          "base_uri": "https://localhost:8080/"
        },
        "id": "b53f5742",
        "outputId": "2bc0368f-3deb-4ef2-fdab-09fefb80a68b"
      },
      "outputs": [
        {
          "output_type": "execute_result",
          "data": {
            "text/plain": [
              "np.float64(0.2)"
            ]
          },
          "metadata": {},
          "execution_count": 12
        }
      ],
      "source": [
        "pmf[2] = 0.2\n",
        "pmf(2)"
      ]
    },
    {
      "cell_type": "markdown",
      "id": "69db5cfb",
      "metadata": {
        "id": "69db5cfb"
      },
      "source": [
        "You can modify an existing `Pmf` by incrementing the probability associated with a value:"
      ]
    },
    {
      "cell_type": "code",
      "execution_count": 13,
      "id": "25ecc3b0",
      "metadata": {
        "colab": {
          "base_uri": "https://localhost:8080/"
        },
        "id": "25ecc3b0",
        "outputId": "ec4f2e2d-4765-426c-8211-0ef22cfad357"
      },
      "outputs": [
        {
          "output_type": "execute_result",
          "data": {
            "text/plain": [
              "np.float64(0.5)"
            ]
          },
          "metadata": {},
          "execution_count": 13
        }
      ],
      "source": [
        "pmf[2] += 0.3\n",
        "pmf[2]"
      ]
    },
    {
      "cell_type": "markdown",
      "id": "b4de74dd",
      "metadata": {
        "id": "b4de74dd"
      },
      "source": [
        "Or you can multiply a probability by a factor:"
      ]
    },
    {
      "cell_type": "code",
      "execution_count": 14,
      "id": "df663bda",
      "metadata": {
        "colab": {
          "base_uri": "https://localhost:8080/"
        },
        "id": "df663bda",
        "outputId": "8c779348-2c5b-4baa-9d11-571679275028"
      },
      "outputs": [
        {
          "output_type": "execute_result",
          "data": {
            "text/plain": [
              "np.float64(0.25)"
            ]
          },
          "metadata": {},
          "execution_count": 14
        }
      ],
      "source": [
        "pmf[2] *= 0.5\n",
        "pmf[2]"
      ]
    },
    {
      "cell_type": "markdown",
      "id": "3abe8d9e",
      "metadata": {
        "id": "3abe8d9e"
      },
      "source": [
        "If you modify a `Pmf`, the result may not be normalized -- that is, the probabilities may no longer add up to 1."
      ]
    },
    {
      "cell_type": "code",
      "execution_count": 15,
      "id": "864a09be",
      "metadata": {
        "colab": {
          "base_uri": "https://localhost:8080/"
        },
        "id": "864a09be",
        "outputId": "68bde111-1fe5-4820-c1ed-7e51d04f3bbd"
      },
      "outputs": [
        {
          "output_type": "execute_result",
          "data": {
            "text/plain": [
              "np.float64(0.8500000000000001)"
            ]
          },
          "metadata": {},
          "execution_count": 15
        }
      ],
      "source": [
        "pmf.sum()"
      ]
    },
    {
      "cell_type": "markdown",
      "id": "bce848f1",
      "metadata": {
        "id": "bce848f1"
      },
      "source": [
        "The `normalize` method renormalizes the `Pmf` by dividing through by the sum -- and returning the sum."
      ]
    },
    {
      "cell_type": "code",
      "execution_count": 16,
      "id": "a06845d8",
      "metadata": {
        "colab": {
          "base_uri": "https://localhost:8080/"
        },
        "id": "a06845d8",
        "outputId": "e82f1e22-ae4e-4857-c27a-9af06bedcd73"
      },
      "outputs": [
        {
          "output_type": "execute_result",
          "data": {
            "text/plain": [
              "np.float64(0.8500000000000001)"
            ]
          },
          "metadata": {},
          "execution_count": 16
        }
      ],
      "source": [
        "pmf.normalize()"
      ]
    },
    {
      "cell_type": "markdown",
      "id": "4ae297e6",
      "metadata": {
        "id": "4ae297e6"
      },
      "source": [
        "`Pmf` objects provide a `copy` method so you can make and modify a copy without affecting the original."
      ]
    },
    {
      "cell_type": "code",
      "execution_count": 17,
      "id": "7738244e",
      "metadata": {
        "colab": {
          "base_uri": "https://localhost:8080/",
          "height": 192
        },
        "id": "7738244e",
        "outputId": "2967d490-3335-4b62-b07c-8e79f3ae5b5d"
      },
      "outputs": [
        {
          "output_type": "execute_result",
          "data": {
            "text/plain": [
              "1    0.235294\n",
              "2    0.294118\n",
              "3    0.235294\n",
              "5    0.235294\n",
              "Name: , dtype: float64"
            ],
            "text/html": [
              "<div>\n",
              "<style scoped>\n",
              "    .dataframe tbody tr th:only-of-type {\n",
              "        vertical-align: middle;\n",
              "    }\n",
              "\n",
              "    .dataframe tbody tr th {\n",
              "        vertical-align: top;\n",
              "    }\n",
              "\n",
              "    .dataframe thead th {\n",
              "        text-align: right;\n",
              "    }\n",
              "</style>\n",
              "<table border=\"1\" class=\"dataframe\">\n",
              "  <thead>\n",
              "    <tr style=\"text-align: right;\">\n",
              "      <th></th>\n",
              "      <th></th>\n",
              "    </tr>\n",
              "  </thead>\n",
              "  <tbody>\n",
              "    <tr>\n",
              "      <th>1</th>\n",
              "      <td>0.235294</td>\n",
              "    </tr>\n",
              "    <tr>\n",
              "      <th>2</th>\n",
              "      <td>0.294118</td>\n",
              "    </tr>\n",
              "    <tr>\n",
              "      <th>3</th>\n",
              "      <td>0.235294</td>\n",
              "    </tr>\n",
              "    <tr>\n",
              "      <th>5</th>\n",
              "      <td>0.235294</td>\n",
              "    </tr>\n",
              "  </tbody>\n",
              "</table>\n",
              "</div><br><label><b>dtype:</b> float64</label>"
            ]
          },
          "metadata": {},
          "execution_count": 17
        }
      ],
      "source": [
        "pmf.copy()"
      ]
    },
    {
      "cell_type": "markdown",
      "id": "94f5f531",
      "metadata": {
        "id": "94f5f531"
      },
      "source": [
        "Like a `FreqTab` object, a `Pmf` object has a `qs` attribute that accesses the quantities and a `ps` attribute that accesses the probabilities.\n",
        "\n",
        "It also has a `bar` method that plots the `Pmf` as a bar graph and a `plot` method that plots it as a line graph."
      ]
    },
    {
      "cell_type": "markdown",
      "id": "3e77da45",
      "metadata": {
        "tags": [],
        "id": "3e77da45"
      },
      "source": [
        "(section_summarizing_pmfs)=\n",
        "## Summarizing a PMF\n",
        "\n",
        "In [Chapter 1](section_summary_statistics) we computed the mean of a sample by adding up the elements and dividing by the number of elements.\n",
        "Here's a simple example."
      ]
    },
    {
      "cell_type": "code",
      "execution_count": 18,
      "id": "07579612",
      "metadata": {
        "colab": {
          "base_uri": "https://localhost:8080/"
        },
        "id": "07579612",
        "outputId": "744c31eb-53ff-4155-cd20-82391b854675"
      },
      "outputs": [
        {
          "output_type": "execute_result",
          "data": {
            "text/plain": [
              "np.float64(2.6)"
            ]
          },
          "metadata": {},
          "execution_count": 18
        }
      ],
      "source": [
        "seq = [1, 2, 2, 3, 5]\n",
        "\n",
        "n = len(seq)\n",
        "mean = np.sum(seq) / n\n",
        "mean"
      ]
    },
    {
      "cell_type": "markdown",
      "id": "7ca46b48",
      "metadata": {
        "id": "7ca46b48"
      },
      "source": [
        "Now suppose we compute the PMF of the values in the sequence."
      ]
    },
    {
      "cell_type": "code",
      "execution_count": 19,
      "id": "fa1ca2c9",
      "metadata": {
        "id": "fa1ca2c9"
      },
      "outputs": [],
      "source": [
        "pmf = Pmf.from_seq(seq)"
      ]
    },
    {
      "cell_type": "markdown",
      "id": "ea4a034d",
      "metadata": {
        "id": "ea4a034d"
      },
      "source": [
        "Given the `Pmf`, we can still compute the mean, but the process is different -- we have to multiply the probabilities and quantities and add up the products."
      ]
    },
    {
      "cell_type": "code",
      "execution_count": 20,
      "id": "f73de148",
      "metadata": {
        "colab": {
          "base_uri": "https://localhost:8080/"
        },
        "id": "f73de148",
        "outputId": "27b08bf8-d754-4bb5-ec79-f7b72e831719"
      },
      "outputs": [
        {
          "output_type": "execute_result",
          "data": {
            "text/plain": [
              "np.float64(2.6)"
            ]
          },
          "metadata": {},
          "execution_count": 20
        }
      ],
      "source": [
        "mean = np.sum(pmf.ps * pmf.qs)\n",
        "mean"
      ]
    },
    {
      "cell_type": "markdown",
      "id": "b7913b14",
      "metadata": {
        "id": "b7913b14"
      },
      "source": [
        "Notice that we *don't* have to divide by `n`, because we already did that when we normalized the `Pmf`.\n",
        "`Pmf` objects have a `mean` method that does the same thing."
      ]
    },
    {
      "cell_type": "code",
      "execution_count": 21,
      "id": "b7a352d8",
      "metadata": {
        "colab": {
          "base_uri": "https://localhost:8080/"
        },
        "id": "b7a352d8",
        "outputId": "b646700b-6e38-4217-a43a-148da6a44632"
      },
      "outputs": [
        {
          "output_type": "execute_result",
          "data": {
            "text/plain": [
              "np.float64(2.6)"
            ]
          },
          "metadata": {},
          "execution_count": 21
        }
      ],
      "source": [
        "pmf.mean()"
      ]
    },
    {
      "cell_type": "markdown",
      "id": "444f74bd",
      "metadata": {
        "id": "444f74bd"
      },
      "source": [
        "Given a `Pmf`, we can compute the variance by computing the deviation of each quantity from the mean."
      ]
    },
    {
      "cell_type": "code",
      "execution_count": 22,
      "id": "06ecd356",
      "metadata": {
        "id": "06ecd356"
      },
      "outputs": [],
      "source": [
        "deviations = pmf.qs - mean"
      ]
    },
    {
      "cell_type": "markdown",
      "id": "b4a01857",
      "metadata": {
        "id": "b4a01857"
      },
      "source": [
        "Then we multiply the squared deviations by the probabilities and add up the products."
      ]
    },
    {
      "cell_type": "code",
      "execution_count": 23,
      "id": "bd600815",
      "metadata": {
        "colab": {
          "base_uri": "https://localhost:8080/"
        },
        "id": "bd600815",
        "outputId": "dfca20fe-dc9e-4cdf-9448-2e12f001b1e5"
      },
      "outputs": [
        {
          "output_type": "execute_result",
          "data": {
            "text/plain": [
              "np.float64(1.84)"
            ]
          },
          "metadata": {},
          "execution_count": 23
        }
      ],
      "source": [
        "var = np.sum(pmf.ps * deviations**2)\n",
        "var"
      ]
    },
    {
      "cell_type": "markdown",
      "id": "f8a9a9b6",
      "metadata": {
        "id": "f8a9a9b6"
      },
      "source": [
        "The `var` method does the same thing."
      ]
    },
    {
      "cell_type": "code",
      "execution_count": 24,
      "id": "a220d0e6",
      "metadata": {
        "colab": {
          "base_uri": "https://localhost:8080/"
        },
        "id": "a220d0e6",
        "outputId": "050f8be5-1314-477a-efd0-cb0ad6297fa5"
      },
      "outputs": [
        {
          "output_type": "execute_result",
          "data": {
            "text/plain": [
              "np.float64(1.84)"
            ]
          },
          "metadata": {},
          "execution_count": 24
        }
      ],
      "source": [
        "pmf.var()"
      ]
    },
    {
      "cell_type": "markdown",
      "id": "9a1c2c57",
      "metadata": {
        "id": "9a1c2c57"
      },
      "source": [
        "From the variance, we can compute the standard deviation in the usual way."
      ]
    },
    {
      "cell_type": "code",
      "execution_count": 25,
      "id": "5e152cda",
      "metadata": {
        "colab": {
          "base_uri": "https://localhost:8080/"
        },
        "id": "5e152cda",
        "outputId": "8e80de57-4724-41c9-8f08-6da9fc3d5043"
      },
      "outputs": [
        {
          "output_type": "execute_result",
          "data": {
            "text/plain": [
              "np.float64(1.3564659966250536)"
            ]
          },
          "metadata": {},
          "execution_count": 25
        }
      ],
      "source": [
        "np.sqrt(var)"
      ]
    },
    {
      "cell_type": "markdown",
      "id": "f2accd22",
      "metadata": {
        "id": "f2accd22"
      },
      "source": [
        "Or the `std` method does the same thing."
      ]
    },
    {
      "cell_type": "code",
      "execution_count": 26,
      "id": "e7557612",
      "metadata": {
        "colab": {
          "base_uri": "https://localhost:8080/"
        },
        "id": "e7557612",
        "outputId": "cbf42549-1862-4e84-93fb-c4ca05d2ac4c"
      },
      "outputs": [
        {
          "output_type": "execute_result",
          "data": {
            "text/plain": [
              "np.float64(1.3564659966250536)"
            ]
          },
          "metadata": {},
          "execution_count": 26
        }
      ],
      "source": [
        "pmf.std()"
      ]
    },
    {
      "cell_type": "markdown",
      "id": "6645531f",
      "metadata": {
        "id": "6645531f"
      },
      "source": [
        "`Pmf` also provides a `mode` method that finds the value with the highest probability."
      ]
    },
    {
      "cell_type": "code",
      "execution_count": 27,
      "id": "19405109",
      "metadata": {
        "colab": {
          "base_uri": "https://localhost:8080/"
        },
        "id": "19405109",
        "outputId": "728c90be-288e-464a-d56b-2b514bd6f1b2"
      },
      "outputs": [
        {
          "output_type": "execute_result",
          "data": {
            "text/plain": [
              "np.int64(2)"
            ]
          },
          "metadata": {},
          "execution_count": 27
        }
      ],
      "source": [
        "pmf.mode()"
      ]
    },
    {
      "cell_type": "markdown",
      "id": "e68a7efd",
      "metadata": {
        "id": "e68a7efd"
      },
      "source": [
        "We'll see more methods as we go along, but that's enough to get started."
      ]
    },
    {
      "cell_type": "markdown",
      "id": "51fc69ca",
      "metadata": {
        "id": "51fc69ca"
      },
      "source": [
        "## The Class Size Paradox\n",
        "\n",
        "As an example of what we can do with `Pmf` objects, let's consider a phenomenon I call \"the class size paradox.\"\n",
        "\n",
        "At many American colleges and universities, the student-to-faculty ratio is about 10:1.\n",
        "But students are often surprised that many of their classes have more than 10 students, sometimes a lot more. There are two reasons for the discrepancy:\n",
        "\n",
        "-   Students typically take 4 or 5 classes per semester, but professors often teach 1 or 2.\n",
        "\n",
        "-   The number of students in a small class is small, and the number of students in a large class is large.\n",
        "\n",
        "The first effect is obvious, at least once it is pointed out; the second is more subtle.\n",
        "Let's look at an example.\n",
        "Suppose that a college offers 65 classes in a given semester, and we are given the number of classes in each of the following size ranges."
      ]
    },
    {
      "cell_type": "code",
      "execution_count": 28,
      "id": "36fa48bc",
      "metadata": {
        "colab": {
          "base_uri": "https://localhost:8080/",
          "height": 363
        },
        "id": "36fa48bc",
        "outputId": "12c1897c-5c02-4cd4-db65-abf1863dbed2"
      },
      "outputs": [
        {
          "output_type": "execute_result",
          "data": {
            "text/plain": [
              "            count\n",
              "class size       \n",
              "[5, 10)         8\n",
              "[10, 15)        8\n",
              "[15, 20)       14\n",
              "[20, 25)        4\n",
              "[25, 30)        6\n",
              "[30, 35)       12\n",
              "[35, 40)        8\n",
              "[40, 45)        3\n",
              "[45, 50)        2"
            ],
            "text/html": [
              "\n",
              "  <div id=\"df-56d73f94-403e-4c2b-9f38-29aa2baa1290\" class=\"colab-df-container\">\n",
              "    <div>\n",
              "<style scoped>\n",
              "    .dataframe tbody tr th:only-of-type {\n",
              "        vertical-align: middle;\n",
              "    }\n",
              "\n",
              "    .dataframe tbody tr th {\n",
              "        vertical-align: top;\n",
              "    }\n",
              "\n",
              "    .dataframe thead th {\n",
              "        text-align: right;\n",
              "    }\n",
              "</style>\n",
              "<table border=\"1\" class=\"dataframe\">\n",
              "  <thead>\n",
              "    <tr style=\"text-align: right;\">\n",
              "      <th></th>\n",
              "      <th>count</th>\n",
              "    </tr>\n",
              "    <tr>\n",
              "      <th>class size</th>\n",
              "      <th></th>\n",
              "    </tr>\n",
              "  </thead>\n",
              "  <tbody>\n",
              "    <tr>\n",
              "      <th>[5, 10)</th>\n",
              "      <td>8</td>\n",
              "    </tr>\n",
              "    <tr>\n",
              "      <th>[10, 15)</th>\n",
              "      <td>8</td>\n",
              "    </tr>\n",
              "    <tr>\n",
              "      <th>[15, 20)</th>\n",
              "      <td>14</td>\n",
              "    </tr>\n",
              "    <tr>\n",
              "      <th>[20, 25)</th>\n",
              "      <td>4</td>\n",
              "    </tr>\n",
              "    <tr>\n",
              "      <th>[25, 30)</th>\n",
              "      <td>6</td>\n",
              "    </tr>\n",
              "    <tr>\n",
              "      <th>[30, 35)</th>\n",
              "      <td>12</td>\n",
              "    </tr>\n",
              "    <tr>\n",
              "      <th>[35, 40)</th>\n",
              "      <td>8</td>\n",
              "    </tr>\n",
              "    <tr>\n",
              "      <th>[40, 45)</th>\n",
              "      <td>3</td>\n",
              "    </tr>\n",
              "    <tr>\n",
              "      <th>[45, 50)</th>\n",
              "      <td>2</td>\n",
              "    </tr>\n",
              "  </tbody>\n",
              "</table>\n",
              "</div>\n",
              "    <div class=\"colab-df-buttons\">\n",
              "\n",
              "  <div class=\"colab-df-container\">\n",
              "    <button class=\"colab-df-convert\" onclick=\"convertToInteractive('df-56d73f94-403e-4c2b-9f38-29aa2baa1290')\"\n",
              "            title=\"Convert this dataframe to an interactive table.\"\n",
              "            style=\"display:none;\">\n",
              "\n",
              "  <svg xmlns=\"http://www.w3.org/2000/svg\" height=\"24px\" viewBox=\"0 -960 960 960\">\n",
              "    <path d=\"M120-120v-720h720v720H120Zm60-500h600v-160H180v160Zm220 220h160v-160H400v160Zm0 220h160v-160H400v160ZM180-400h160v-160H180v160Zm440 0h160v-160H620v160ZM180-180h160v-160H180v160Zm440 0h160v-160H620v160Z\"/>\n",
              "  </svg>\n",
              "    </button>\n",
              "\n",
              "  <style>\n",
              "    .colab-df-container {\n",
              "      display:flex;\n",
              "      gap: 12px;\n",
              "    }\n",
              "\n",
              "    .colab-df-convert {\n",
              "      background-color: #E8F0FE;\n",
              "      border: none;\n",
              "      border-radius: 50%;\n",
              "      cursor: pointer;\n",
              "      display: none;\n",
              "      fill: #1967D2;\n",
              "      height: 32px;\n",
              "      padding: 0 0 0 0;\n",
              "      width: 32px;\n",
              "    }\n",
              "\n",
              "    .colab-df-convert:hover {\n",
              "      background-color: #E2EBFA;\n",
              "      box-shadow: 0px 1px 2px rgba(60, 64, 67, 0.3), 0px 1px 3px 1px rgba(60, 64, 67, 0.15);\n",
              "      fill: #174EA6;\n",
              "    }\n",
              "\n",
              "    .colab-df-buttons div {\n",
              "      margin-bottom: 4px;\n",
              "    }\n",
              "\n",
              "    [theme=dark] .colab-df-convert {\n",
              "      background-color: #3B4455;\n",
              "      fill: #D2E3FC;\n",
              "    }\n",
              "\n",
              "    [theme=dark] .colab-df-convert:hover {\n",
              "      background-color: #434B5C;\n",
              "      box-shadow: 0px 1px 3px 1px rgba(0, 0, 0, 0.15);\n",
              "      filter: drop-shadow(0px 1px 2px rgba(0, 0, 0, 0.3));\n",
              "      fill: #FFFFFF;\n",
              "    }\n",
              "  </style>\n",
              "\n",
              "    <script>\n",
              "      const buttonEl =\n",
              "        document.querySelector('#df-56d73f94-403e-4c2b-9f38-29aa2baa1290 button.colab-df-convert');\n",
              "      buttonEl.style.display =\n",
              "        google.colab.kernel.accessAllowed ? 'block' : 'none';\n",
              "\n",
              "      async function convertToInteractive(key) {\n",
              "        const element = document.querySelector('#df-56d73f94-403e-4c2b-9f38-29aa2baa1290');\n",
              "        const dataTable =\n",
              "          await google.colab.kernel.invokeFunction('convertToInteractive',\n",
              "                                                    [key], {});\n",
              "        if (!dataTable) return;\n",
              "\n",
              "        const docLinkHtml = 'Like what you see? Visit the ' +\n",
              "          '<a target=\"_blank\" href=https://colab.research.google.com/notebooks/data_table.ipynb>data table notebook</a>'\n",
              "          + ' to learn more about interactive tables.';\n",
              "        element.innerHTML = '';\n",
              "        dataTable['output_type'] = 'display_data';\n",
              "        await google.colab.output.renderOutput(dataTable, element);\n",
              "        const docLink = document.createElement('div');\n",
              "        docLink.innerHTML = docLinkHtml;\n",
              "        element.appendChild(docLink);\n",
              "      }\n",
              "    </script>\n",
              "  </div>\n",
              "\n",
              "\n",
              "    <div id=\"df-61ca172b-88b6-4b4c-93dc-3f292e599e5a\">\n",
              "      <button class=\"colab-df-quickchart\" onclick=\"quickchart('df-61ca172b-88b6-4b4c-93dc-3f292e599e5a')\"\n",
              "                title=\"Suggest charts\"\n",
              "                style=\"display:none;\">\n",
              "\n",
              "<svg xmlns=\"http://www.w3.org/2000/svg\" height=\"24px\"viewBox=\"0 0 24 24\"\n",
              "     width=\"24px\">\n",
              "    <g>\n",
              "        <path d=\"M19 3H5c-1.1 0-2 .9-2 2v14c0 1.1.9 2 2 2h14c1.1 0 2-.9 2-2V5c0-1.1-.9-2-2-2zM9 17H7v-7h2v7zm4 0h-2V7h2v10zm4 0h-2v-4h2v4z\"/>\n",
              "    </g>\n",
              "</svg>\n",
              "      </button>\n",
              "\n",
              "<style>\n",
              "  .colab-df-quickchart {\n",
              "      --bg-color: #E8F0FE;\n",
              "      --fill-color: #1967D2;\n",
              "      --hover-bg-color: #E2EBFA;\n",
              "      --hover-fill-color: #174EA6;\n",
              "      --disabled-fill-color: #AAA;\n",
              "      --disabled-bg-color: #DDD;\n",
              "  }\n",
              "\n",
              "  [theme=dark] .colab-df-quickchart {\n",
              "      --bg-color: #3B4455;\n",
              "      --fill-color: #D2E3FC;\n",
              "      --hover-bg-color: #434B5C;\n",
              "      --hover-fill-color: #FFFFFF;\n",
              "      --disabled-bg-color: #3B4455;\n",
              "      --disabled-fill-color: #666;\n",
              "  }\n",
              "\n",
              "  .colab-df-quickchart {\n",
              "    background-color: var(--bg-color);\n",
              "    border: none;\n",
              "    border-radius: 50%;\n",
              "    cursor: pointer;\n",
              "    display: none;\n",
              "    fill: var(--fill-color);\n",
              "    height: 32px;\n",
              "    padding: 0;\n",
              "    width: 32px;\n",
              "  }\n",
              "\n",
              "  .colab-df-quickchart:hover {\n",
              "    background-color: var(--hover-bg-color);\n",
              "    box-shadow: 0 1px 2px rgba(60, 64, 67, 0.3), 0 1px 3px 1px rgba(60, 64, 67, 0.15);\n",
              "    fill: var(--button-hover-fill-color);\n",
              "  }\n",
              "\n",
              "  .colab-df-quickchart-complete:disabled,\n",
              "  .colab-df-quickchart-complete:disabled:hover {\n",
              "    background-color: var(--disabled-bg-color);\n",
              "    fill: var(--disabled-fill-color);\n",
              "    box-shadow: none;\n",
              "  }\n",
              "\n",
              "  .colab-df-spinner {\n",
              "    border: 2px solid var(--fill-color);\n",
              "    border-color: transparent;\n",
              "    border-bottom-color: var(--fill-color);\n",
              "    animation:\n",
              "      spin 1s steps(1) infinite;\n",
              "  }\n",
              "\n",
              "  @keyframes spin {\n",
              "    0% {\n",
              "      border-color: transparent;\n",
              "      border-bottom-color: var(--fill-color);\n",
              "      border-left-color: var(--fill-color);\n",
              "    }\n",
              "    20% {\n",
              "      border-color: transparent;\n",
              "      border-left-color: var(--fill-color);\n",
              "      border-top-color: var(--fill-color);\n",
              "    }\n",
              "    30% {\n",
              "      border-color: transparent;\n",
              "      border-left-color: var(--fill-color);\n",
              "      border-top-color: var(--fill-color);\n",
              "      border-right-color: var(--fill-color);\n",
              "    }\n",
              "    40% {\n",
              "      border-color: transparent;\n",
              "      border-right-color: var(--fill-color);\n",
              "      border-top-color: var(--fill-color);\n",
              "    }\n",
              "    60% {\n",
              "      border-color: transparent;\n",
              "      border-right-color: var(--fill-color);\n",
              "    }\n",
              "    80% {\n",
              "      border-color: transparent;\n",
              "      border-right-color: var(--fill-color);\n",
              "      border-bottom-color: var(--fill-color);\n",
              "    }\n",
              "    90% {\n",
              "      border-color: transparent;\n",
              "      border-bottom-color: var(--fill-color);\n",
              "    }\n",
              "  }\n",
              "</style>\n",
              "\n",
              "      <script>\n",
              "        async function quickchart(key) {\n",
              "          const quickchartButtonEl =\n",
              "            document.querySelector('#' + key + ' button');\n",
              "          quickchartButtonEl.disabled = true;  // To prevent multiple clicks.\n",
              "          quickchartButtonEl.classList.add('colab-df-spinner');\n",
              "          try {\n",
              "            const charts = await google.colab.kernel.invokeFunction(\n",
              "                'suggestCharts', [key], {});\n",
              "          } catch (error) {\n",
              "            console.error('Error during call to suggestCharts:', error);\n",
              "          }\n",
              "          quickchartButtonEl.classList.remove('colab-df-spinner');\n",
              "          quickchartButtonEl.classList.add('colab-df-quickchart-complete');\n",
              "        }\n",
              "        (() => {\n",
              "          let quickchartButtonEl =\n",
              "            document.querySelector('#df-61ca172b-88b6-4b4c-93dc-3f292e599e5a button');\n",
              "          quickchartButtonEl.style.display =\n",
              "            google.colab.kernel.accessAllowed ? 'block' : 'none';\n",
              "        })();\n",
              "      </script>\n",
              "    </div>\n",
              "\n",
              "  <div id=\"id_6c476cb4-4367-4866-982e-596865054008\">\n",
              "    <style>\n",
              "      .colab-df-generate {\n",
              "        background-color: #E8F0FE;\n",
              "        border: none;\n",
              "        border-radius: 50%;\n",
              "        cursor: pointer;\n",
              "        display: none;\n",
              "        fill: #1967D2;\n",
              "        height: 32px;\n",
              "        padding: 0 0 0 0;\n",
              "        width: 32px;\n",
              "      }\n",
              "\n",
              "      .colab-df-generate:hover {\n",
              "        background-color: #E2EBFA;\n",
              "        box-shadow: 0px 1px 2px rgba(60, 64, 67, 0.3), 0px 1px 3px 1px rgba(60, 64, 67, 0.15);\n",
              "        fill: #174EA6;\n",
              "      }\n",
              "\n",
              "      [theme=dark] .colab-df-generate {\n",
              "        background-color: #3B4455;\n",
              "        fill: #D2E3FC;\n",
              "      }\n",
              "\n",
              "      [theme=dark] .colab-df-generate:hover {\n",
              "        background-color: #434B5C;\n",
              "        box-shadow: 0px 1px 3px 1px rgba(0, 0, 0, 0.15);\n",
              "        filter: drop-shadow(0px 1px 2px rgba(0, 0, 0, 0.3));\n",
              "        fill: #FFFFFF;\n",
              "      }\n",
              "    </style>\n",
              "    <button class=\"colab-df-generate\" onclick=\"generateWithVariable('data')\"\n",
              "            title=\"Generate code using this dataframe.\"\n",
              "            style=\"display:none;\">\n",
              "\n",
              "  <svg xmlns=\"http://www.w3.org/2000/svg\" height=\"24px\"viewBox=\"0 0 24 24\"\n",
              "       width=\"24px\">\n",
              "    <path d=\"M7,19H8.4L18.45,9,17,7.55,7,17.6ZM5,21V16.75L18.45,3.32a2,2,0,0,1,2.83,0l1.4,1.43a1.91,1.91,0,0,1,.58,1.4,1.91,1.91,0,0,1-.58,1.4L9.25,21ZM18.45,9,17,7.55Zm-12,3A5.31,5.31,0,0,0,4.9,8.1,5.31,5.31,0,0,0,1,6.5,5.31,5.31,0,0,0,4.9,4.9,5.31,5.31,0,0,0,6.5,1,5.31,5.31,0,0,0,8.1,4.9,5.31,5.31,0,0,0,12,6.5,5.46,5.46,0,0,0,6.5,12Z\"/>\n",
              "  </svg>\n",
              "    </button>\n",
              "    <script>\n",
              "      (() => {\n",
              "      const buttonEl =\n",
              "        document.querySelector('#id_6c476cb4-4367-4866-982e-596865054008 button.colab-df-generate');\n",
              "      buttonEl.style.display =\n",
              "        google.colab.kernel.accessAllowed ? 'block' : 'none';\n",
              "\n",
              "      buttonEl.onclick = () => {\n",
              "        google.colab.notebook.generateWithVariable('data');\n",
              "      }\n",
              "      })();\n",
              "    </script>\n",
              "  </div>\n",
              "\n",
              "    </div>\n",
              "  </div>\n"
            ],
            "application/vnd.google.colaboratory.intrinsic+json": {
              "type": "dataframe",
              "variable_name": "data",
              "summary": "{\n  \"name\": \"data\",\n  \"rows\": 9,\n  \"fields\": [\n    {\n      \"column\": \"class size\",\n      \"properties\": {\n        \"dtype\": \"interval[int64, left]\",\n        \"num_unique_values\": 9,\n        \"samples\": [\n          \"[40, 45)\",\n          \"[10, 15)\",\n          \"[30, 35)\"\n        ],\n        \"semantic_type\": \"\",\n        \"description\": \"\"\n      }\n    },\n    {\n      \"column\": \"count\",\n      \"properties\": {\n        \"dtype\": \"number\",\n        \"std\": 3,\n        \"min\": 2,\n        \"max\": 14,\n        \"num_unique_values\": 7,\n        \"samples\": [\n          8,\n          14,\n          3\n        ],\n        \"semantic_type\": \"\",\n        \"description\": \"\"\n      }\n    }\n  ]\n}"
            }
          },
          "metadata": {},
          "execution_count": 28
        }
      ],
      "source": [
        "ranges = pd.interval_range(start=5, end=50, freq=5, closed=\"left\")\n",
        "ranges.name = \"class size\"\n",
        "\n",
        "data = pd.DataFrame(index=ranges)\n",
        "data[\"count\"] = [8, 8, 14, 4, 6, 12, 8, 3, 2]\n",
        "data"
      ]
    },
    {
      "cell_type": "markdown",
      "id": "2e43baa6",
      "metadata": {
        "id": "2e43baa6"
      },
      "source": [
        "The Pandas function `interval_range` makes an `Index` where each label represents a range of values.\n",
        "The notation `[5, 10)` means that `5` is included in the interval and `10` is not.\n",
        "Since we don't know the sizes of the classes in each interval, let's assume that all sizes are at the midpoint of the range."
      ]
    },
    {
      "cell_type": "code",
      "execution_count": 29,
      "id": "36f208f9",
      "metadata": {
        "colab": {
          "base_uri": "https://localhost:8080/"
        },
        "id": "36f208f9",
        "outputId": "76d9b037-8f16-4f43-f95c-10c4cf28aae9"
      },
      "outputs": [
        {
          "output_type": "execute_result",
          "data": {
            "text/plain": [
              "Index([7, 12, 17, 22, 27, 32, 37, 42, 47], dtype='int64')"
            ]
          },
          "metadata": {},
          "execution_count": 29
        }
      ],
      "source": [
        "sizes = ranges.left + 2\n",
        "sizes"
      ]
    },
    {
      "cell_type": "markdown",
      "id": "7551d814",
      "metadata": {
        "id": "7551d814"
      },
      "source": [
        "Now let's make a `Pmf` that represents the distribution of class sizes.\n",
        "Because we know the sizes and their frequencies, we can create a `Pmf` directly, passing as arguments the counts, sizes, and a name.\n",
        "When we normalize the new `Pmf`, the result is the sum of the counts."
      ]
    },
    {
      "cell_type": "code",
      "execution_count": 30,
      "id": "c1db28bc",
      "metadata": {
        "colab": {
          "base_uri": "https://localhost:8080/"
        },
        "id": "c1db28bc",
        "outputId": "5c011b41-d0aa-4380-8132-b94512741b5d"
      },
      "outputs": [
        {
          "output_type": "execute_result",
          "data": {
            "text/plain": [
              "np.int64(65)"
            ]
          },
          "metadata": {},
          "execution_count": 30
        }
      ],
      "source": [
        "counts = data[\"count\"]\n",
        "actual_pmf = Pmf(counts, sizes, name=\"actual\")\n",
        "actual_pmf.normalize()"
      ]
    },
    {
      "cell_type": "markdown",
      "id": "ca39aa3a",
      "metadata": {
        "id": "ca39aa3a"
      },
      "source": [
        "If you ask the college for the average class size, they report the mean of this distribution, which is 23.7."
      ]
    },
    {
      "cell_type": "code",
      "execution_count": 31,
      "id": "6f8eb2c2",
      "metadata": {
        "colab": {
          "base_uri": "https://localhost:8080/"
        },
        "id": "6f8eb2c2",
        "outputId": "c7017879-2d6d-4021-9f85-640638a502b3"
      },
      "outputs": [
        {
          "output_type": "execute_result",
          "data": {
            "text/plain": [
              "np.float64(23.692307692307693)"
            ]
          },
          "metadata": {},
          "execution_count": 31
        }
      ],
      "source": [
        "actual_pmf.mean()"
      ]
    },
    {
      "cell_type": "markdown",
      "id": "0d22bd69",
      "metadata": {
        "id": "0d22bd69"
      },
      "source": [
        "But if you survey a group of students, ask them how many students are in their classes, and compute the mean, the average is bigger.\n",
        "Let's see how much bigger.\n",
        "\n",
        "The following function takes the actual `Pmf` of class sizes and makes a new `Pmf` that represents the class sizes as seen by students.\n",
        "The quantities in the two distributions are the same, but the probabilities in the distribution are multiplied by the quantities, because in a class with size `x`, there are `x` students who observe that class.\n",
        "So the probability of observing a class is proportional to its size."
      ]
    },
    {
      "cell_type": "code",
      "execution_count": 32,
      "id": "3cef6126",
      "metadata": {
        "id": "3cef6126"
      },
      "outputs": [],
      "source": [
        "def bias(pmf, name):\n",
        "    # multiply each probability by class size\n",
        "    ps = pmf.ps * pmf.qs\n",
        "\n",
        "    # make a new Pmf and normalize it\n",
        "    new_pmf = Pmf(ps, pmf.qs, name=name)\n",
        "    new_pmf.normalize()\n",
        "    return new_pmf"
      ]
    },
    {
      "cell_type": "markdown",
      "id": "f1449478",
      "metadata": {
        "id": "f1449478"
      },
      "source": [
        "Now we can compute the biased `Pmf` as observed by students."
      ]
    },
    {
      "cell_type": "code",
      "execution_count": 33,
      "id": "6df3cccb",
      "metadata": {
        "id": "6df3cccb"
      },
      "outputs": [],
      "source": [
        "observed_pmf = bias(actual_pmf, name=\"observed\")"
      ]
    },
    {
      "cell_type": "markdown",
      "id": "e96df61b",
      "metadata": {
        "id": "e96df61b"
      },
      "source": [
        "Here's what the two distributions look like."
      ]
    },
    {
      "cell_type": "code",
      "execution_count": 34,
      "id": "1c2b81d9",
      "metadata": {
        "colab": {
          "base_uri": "https://localhost:8080/",
          "height": 272
        },
        "id": "1c2b81d9",
        "outputId": "f99c8e26-e149-49c5-eb0e-0ea87cf14942"
      },
      "outputs": [
        {
          "output_type": "display_data",
          "data": {
            "text/plain": [
              "<Figure size 450x262.5 with 1 Axes>"
            ],
            "image/png": "[encoded data removed]"
          },
          "metadata": {}
        }
      ],
      "source": [
        "from thinkstats import two_bar_plots\n",
        "\n",
        "two_bar_plots(actual_pmf, observed_pmf, width=2)\n",
        "decorate(xlabel=\"Class size\", ylabel=\"PMF\")"
      ]
    },
    {
      "cell_type": "markdown",
      "id": "2842ea59",
      "metadata": {
        "id": "2842ea59"
      },
      "source": [
        "In the observed distribution there are fewer small classes and more large ones.\n",
        "And the biased mean is 29.1, almost 25% higher than the actual mean."
      ]
    },
    {
      "cell_type": "code",
      "execution_count": 35,
      "id": "61623eb5",
      "metadata": {
        "colab": {
          "base_uri": "https://localhost:8080/"
        },
        "id": "61623eb5",
        "outputId": "ff848681-62c6-4ba6-d1d5-f82b41e900bc"
      },
      "outputs": [
        {
          "output_type": "execute_result",
          "data": {
            "text/plain": [
              "np.float64(29.123376623376622)"
            ]
          },
          "metadata": {},
          "execution_count": 35
        }
      ],
      "source": [
        "observed_pmf.mean()"
      ]
    },
    {
      "cell_type": "markdown",
      "id": "d6820e00",
      "metadata": {
        "id": "d6820e00"
      },
      "source": [
        "It is also possible to invert this operation.\n",
        "Suppose you want to find the distribution of class sizes at a college, but you can't get reliable data.\n",
        "One option is to choose a random sample of students and ask how many students are in their classes.\n",
        "\n",
        "The result would be biased for the reasons we've just seen, but you can use it to estimate the actual distribution.\n",
        "Here's the function that unbiases a `Pmf` by dividing the probabilities by the sizes."
      ]
    },
    {
      "cell_type": "code",
      "execution_count": 36,
      "id": "4c52202b",
      "metadata": {
        "id": "4c52202b"
      },
      "outputs": [],
      "source": [
        "def unbias(pmf, name):\n",
        "    # divide each probability by class size\n",
        "    ps = pmf.ps / pmf.qs\n",
        "\n",
        "    new_pmf = Pmf(ps, pmf.qs, name=name)\n",
        "    new_pmf.normalize()\n",
        "    return new_pmf"
      ]
    },
    {
      "cell_type": "markdown",
      "id": "9728cc41",
      "metadata": {
        "id": "9728cc41"
      },
      "source": [
        "And here's the result."
      ]
    },
    {
      "cell_type": "code",
      "execution_count": 37,
      "id": "e69c6e88",
      "metadata": {
        "colab": {
          "base_uri": "https://localhost:8080/"
        },
        "id": "e69c6e88",
        "outputId": "84a41e1b-2eeb-4395-ae88-80e6fe6104e6"
      },
      "outputs": [
        {
          "output_type": "execute_result",
          "data": {
            "text/plain": [
              "np.float64(23.692307692307693)"
            ]
          },
          "metadata": {},
          "execution_count": 37
        }
      ],
      "source": [
        "debiased_pmf = unbias(observed_pmf, \"debiased\")\n",
        "debiased_pmf.mean()"
      ]
    },
    {
      "cell_type": "markdown",
      "id": "d9b23744",
      "metadata": {
        "id": "d9b23744"
      },
      "source": [
        "The mean of the debiased `Pmf` is the same as the mean of the actual distribution we started with.\n",
        "\n",
        "If you think this example is interesting, you might like Chapter 2 of *Probably Overthinking It*, which includes this and several other examples of what's called the \"inspection paradox\"."
      ]
    },
    {
      "cell_type": "markdown",
      "id": "089ffa11",
      "metadata": {
        "id": "089ffa11"
      },
      "source": [
        "## NSFG Data\n",
        "\n",
        "In the previous chapter, we plotted frequency tables of pregnancy lengths for first babies and others.\n",
        "But the sizes of the groups are not the same, so we can't compare the frequency tables directly.\n",
        "Because PMFs are normalized, we can compare them.\n",
        "So let's load the NSFG data again and make `Pmf` objects to represent distributions of pregnancy lengths."
      ]
    },
    {
      "cell_type": "markdown",
      "id": "ead45565",
      "metadata": {
        "tags": [],
        "id": "ead45565"
      },
      "source": [
        "The following cells download the data files and install `statadict`, which we need to read the data."
      ]
    },
    {
      "cell_type": "code",
      "execution_count": 38,
      "id": "31216ce5",
      "metadata": {
        "tags": [],
        "colab": {
          "base_uri": "https://localhost:8080/"
        },
        "id": "31216ce5",
        "outputId": "86569a5b-d5c2-459c-f1b4-680ea9d66364"
      },
      "outputs": [
        {
          "output_type": "stream",
          "name": "stdout",
          "text": [
            "Collecting statadict\n",
            "  Downloading statadict-1.1.0-py3-none-any.whl.metadata (1.7 kB)\n",
            "Downloading statadict-1.1.0-py3-none-any.whl (9.4 kB)\n",
            "Installing collected packages: statadict\n",
            "Successfully installed statadict-1.1.0\n"
          ]
        }
      ],
      "source": [
        "try:\n",
        "    import statadict\n",
        "except ImportError:\n",
        "    %pip install statadict"
      ]
    },
    {
      "cell_type": "code",
      "execution_count": 39,
      "id": "7deaf238",
      "metadata": {
        "tags": [],
        "colab": {
          "base_uri": "https://localhost:8080/"
        },
        "id": "7deaf238",
        "outputId": "3e89766c-4190-4ac7-ee45-8c4c7a4abf89"
      },
      "outputs": [
        {
          "output_type": "stream",
          "name": "stdout",
          "text": [
            "Downloaded nsfg.py\n",
            "Downloaded 2002FemPreg.dct\n",
            "Downloaded 2002FemPreg.dat.gz\n"
          ]
        }
      ],
      "source": [
        "download(\"https://github.com/AllenDowney/ThinkStats/raw/v3/nb/nsfg.py\")\n",
        "download(\"https://github.com/AllenDowney/ThinkStats/raw/v3/data/2002FemPreg.dct\")\n",
        "download(\"https://github.com/AllenDowney/ThinkStats/raw/v3/data/2002FemPreg.dat.gz\")"
      ]
    },
    {
      "cell_type": "markdown",
      "id": "1b94e467",
      "metadata": {
        "id": "1b94e467"
      },
      "source": [
        "The `nsfg` module provides a `read_nsfg_groups` function that reads the data, selects rows that represent live births, and partitions live births into first babies and others.\n",
        "It returns three `DataFrame` objects."
      ]
    },
    {
      "cell_type": "code",
      "execution_count": 40,
      "id": "4424061e",
      "metadata": {
        "id": "4424061e"
      },
      "outputs": [],
      "source": [
        "from nsfg import get_nsfg_groups\n",
        "\n",
        "live, firsts, others = get_nsfg_groups()"
      ]
    },
    {
      "cell_type": "markdown",
      "id": "db6ed39a",
      "metadata": {
        "id": "db6ed39a"
      },
      "source": [
        "We can use `firsts` and `others` to make a `Pmf` for the pregnancy lengths in each group."
      ]
    },
    {
      "cell_type": "code",
      "execution_count": 41,
      "id": "900062cf",
      "metadata": {
        "id": "900062cf"
      },
      "outputs": [],
      "source": [
        "first_pmf = Pmf.from_seq(firsts[\"prglngth\"], name=\"firsts\")\n",
        "other_pmf = Pmf.from_seq(others[\"prglngth\"], name=\"others\")"
      ]
    },
    {
      "cell_type": "markdown",
      "id": "26d3185a",
      "metadata": {
        "id": "26d3185a"
      },
      "source": [
        "Here are the PMFs for first babies and others, plotted as bar graphs."
      ]
    },
    {
      "cell_type": "code",
      "execution_count": 42,
      "id": "62c91cfa",
      "metadata": {
        "colab": {
          "base_uri": "https://localhost:8080/",
          "height": 272
        },
        "id": "62c91cfa",
        "outputId": "282e3512-c39c-44c5-b259-b2d3a1e53620"
      },
      "outputs": [
        {
          "output_type": "display_data",
          "data": {
            "text/plain": [
              "<Figure size 450x262.5 with 1 Axes>"
            ],
            "image/png": "[encoded data removed]"
          },
          "metadata": {}
        }
      ],
      "source": [
        "two_bar_plots(first_pmf, other_pmf)\n",
        "decorate(xlabel=\"Weeks\", ylabel=\"Probability\", xlim=[20, 50])"
      ]
    },
    {
      "cell_type": "markdown",
      "id": "cc505018",
      "metadata": {
        "id": "cc505018"
      },
      "source": [
        "By plotting the PMF instead of the frequency table, we can compare the two distributions without being misled by the difference in sizes of the samples.\n",
        "Based on this figure, first babies seem to be less likely than others to arrive on time (week 39) and more likely to be late (weeks 41 and 42)."
      ]
    },
    {
      "cell_type": "markdown",
      "id": "8f2e5b2f",
      "metadata": {
        "id": "8f2e5b2f"
      },
      "source": [
        "## Other Visualizations\n",
        "\n",
        "FreqTabograms and PMFs are useful while you are exploring data and trying to identify patterns and relationships.\n",
        "Once you have an idea what is going on, a good next step is to design a visualization that makes the patterns you have identified as clear as possible.\n",
        "\n",
        "In the NSFG data, the biggest differences in the distributions are near the mode.\n",
        "So it makes sense to zoom in on that part of the graph, and select data from weeks 35 to 46.\n",
        "\n",
        "When we call a `Pmf` object like a function, we can look up a sequence of quantities and get a sequence of probabilities."
      ]
    },
    {
      "cell_type": "code",
      "execution_count": 43,
      "id": "9f134fc5",
      "metadata": {
        "colab": {
          "base_uri": "https://localhost:8080/"
        },
        "id": "9f134fc5",
        "outputId": "5267e262-5ea0-429e-976f-5b2abb692634"
      },
      "outputs": [
        {
          "output_type": "execute_result",
          "data": {
            "text/plain": [
              "array([0.03602991, 0.03897575, 0.04713347, 0.06163608, 0.4790392 ,\n",
              "       0.12145932, 0.08157716, 0.04645366, 0.01971448, 0.00521187,\n",
              "       0.00135962])"
            ]
          },
          "metadata": {},
          "execution_count": 43
        }
      ],
      "source": [
        "weeks = range(35, 46)\n",
        "first_pmf(weeks)"
      ]
    },
    {
      "cell_type": "code",
      "execution_count": 44,
      "id": "e185339f",
      "metadata": {
        "colab": {
          "base_uri": "https://localhost:8080/"
        },
        "id": "e185339f",
        "outputId": "87b4c498-0d8f-4bf6-ce48-1047cb281eae"
      },
      "outputs": [
        {
          "output_type": "execute_result",
          "data": {
            "text/plain": [
              "array([0.03210137, 0.03146779, 0.05216473, 0.07074974, 0.54466737,\n",
              "       0.12249208, 0.04794087, 0.02597677, 0.01288279, 0.00485744,\n",
              "       0.00084477])"
            ]
          },
          "metadata": {},
          "execution_count": 44
        }
      ],
      "source": [
        "other_pmf(weeks)"
      ]
    },
    {
      "cell_type": "markdown",
      "id": "332a7946",
      "metadata": {
        "id": "332a7946"
      },
      "source": [
        "So we can compute the differences in the probabilities like this."
      ]
    },
    {
      "cell_type": "code",
      "execution_count": 45,
      "id": "36d0ba81",
      "metadata": {
        "colab": {
          "base_uri": "https://localhost:8080/"
        },
        "id": "36d0ba81",
        "outputId": "6697e7a5-ec7a-400c-c3cd-2b8b041ca5d8"
      },
      "outputs": [
        {
          "output_type": "execute_result",
          "data": {
            "text/plain": [
              "array([ 0.00392854,  0.00750796, -0.00503126, -0.00911366, -0.06562817,\n",
              "       -0.00103276,  0.03363629,  0.02047689,  0.00683169,  0.00035443,\n",
              "        0.00051485])"
            ]
          },
          "metadata": {},
          "execution_count": 45
        }
      ],
      "source": [
        "diffs = first_pmf(weeks) - other_pmf(weeks)\n",
        "diffs"
      ]
    },
    {
      "cell_type": "markdown",
      "id": "cdad3427",
      "metadata": {
        "id": "cdad3427"
      },
      "source": [
        "Here's what they look like, multiplied by 100 to express the differences in percentage points."
      ]
    },
    {
      "cell_type": "code",
      "execution_count": 46,
      "id": "3f40b276",
      "metadata": {
        "colab": {
          "base_uri": "https://localhost:8080/",
          "height": 272
        },
        "id": "3f40b276",
        "outputId": "2f817b1b-12c2-4403-f62a-ffc46ec98ede"
      },
      "outputs": [
        {
          "output_type": "display_data",
          "data": {
            "text/plain": [
              "<Figure size 450x262.5 with 1 Axes>"
            ],
            "image/png": "[encoded data removed]"
          },
          "metadata": {}
        }
      ],
      "source": [
        "plt.bar(weeks, diffs * 100)\n",
        "decorate(xlabel=\"Weeks\", ylabel=\"Difference (percentage points)\")"
      ]
    },
    {
      "cell_type": "markdown",
      "id": "11615bb9",
      "metadata": {
        "id": "11615bb9"
      },
      "source": [
        "This figure makes the pattern clearer: first babies are less likely to be born in week 39, and somewhat more likely to be born in weeks 41 and 42.\n",
        "\n",
        "When we see a pattern like this in a sample, we can't be sure it also holds in the population -- and we don't know whether we would see it in another sample from the same population.\n",
        "We'll revisit this question in [Chapter 9](chapter_hypothesis_testing)."
      ]
    },
    {
      "cell_type": "markdown",
      "id": "93d2684e",
      "metadata": {
        "id": "93d2684e"
      },
      "source": [
        "## Glossary\n",
        "\n",
        "There are not as many new terms in this chapter as in the previous chapters.\n",
        "\n",
        "-   **normalized:** A set of probabilities are normalized if they add up to 1.\n",
        "\n",
        "-   **probability mass function (PMF)**: A function that represents a distribution by mapping each quantity to its probability."
      ]
    },
    {
      "cell_type": "markdown",
      "id": "e818cde9",
      "metadata": {
        "collapsed": true,
        "id": "e818cde9"
      },
      "source": [
        "## Exercises\n",
        "\n",
        "For the exercises in this chapter, we'll use the NSFG respondent file, which contains one row for each respondent.\n",
        "Instructions for downloading the data are in the notebook for this chapter."
      ]
    },
    {
      "cell_type": "code",
      "execution_count": 47,
      "id": "461a9ed7",
      "metadata": {
        "tags": [],
        "colab": {
          "base_uri": "https://localhost:8080/"
        },
        "id": "461a9ed7",
        "outputId": "4cfb5c25-7bb3-41fb-b997-8a583697b9a3"
      },
      "outputs": [
        {
          "output_type": "stream",
          "name": "stdout",
          "text": [
            "Downloaded 2002FemResp.dct\n",
            "Downloaded 2002FemResp.dat.gz\n"
          ]
        }
      ],
      "source": [
        "download(\"https://github.com/AllenDowney/ThinkStats/raw/v3/data/2002FemResp.dct\")\n",
        "download(\"https://github.com/AllenDowney/ThinkStats/raw/v3/data/2002FemResp.dat.gz\")"
      ]
    },
    {
      "cell_type": "markdown",
      "id": "7c7ce2b7",
      "metadata": {
        "tags": [],
        "id": "7c7ce2b7"
      },
      "source": [
        "The codebook for this dataset is at <https://ftp.cdc.gov/pub/Health_Statistics/NCHS/Dataset_Documentation/NSFG/Cycle6Codebook-Female.pdf>."
      ]
    },
    {
      "cell_type": "markdown",
      "id": "1b40d801",
      "metadata": {
        "id": "1b40d801"
      },
      "source": [
        "The `nsfg.py` module provides a function that reads the respondent file and returns a `DataFrame`."
      ]
    },
    {
      "cell_type": "code",
      "execution_count": 48,
      "id": "861e38b1",
      "metadata": {
        "colab": {
          "base_uri": "https://localhost:8080/"
        },
        "id": "861e38b1",
        "outputId": "9d3ba7cf-6a3a-48bf-e1c7-ea5e947bd448"
      },
      "outputs": [
        {
          "output_type": "execute_result",
          "data": {
            "text/plain": [
              "(7643, 3092)"
            ]
          },
          "metadata": {},
          "execution_count": 48
        }
      ],
      "source": [
        "from nsfg import read_fem_resp\n",
        "\n",
        "resp = read_fem_resp()\n",
        "resp.shape"
      ]
    },
    {
      "cell_type": "markdown",
      "id": "5495601a",
      "metadata": {
        "id": "5495601a"
      },
      "source": [
        "This `DataFrame` contains 7643 rows and 3092 columns."
      ]
    },
    {
      "cell_type": "markdown",
      "id": "8e509710",
      "metadata": {
        "id": "8e509710"
      },
      "source": [
        "### Exercise 3.1\n",
        "\n",
        "Select the column `numbabes`, which records the \"number of babies born alive\" to each respondent.\n",
        "Make a `FreqTab` object and display the frequencies of the values in this column.\n",
        "Check that they are consistent with the frequencies in the code book.\n",
        "Are there any special values that should be replaced with `NaN`?\n",
        "\n",
        "Then make a `Pmf` object and plot it as a bar graph. Is the distribution symmetric, skewed to the left, or skewed to the right?"
      ]
    },
    {
      "cell_type": "code",
      "execution_count": 61,
      "id": "e4933509",
      "metadata": {
        "id": "e4933509"
      },
      "outputs": [],
      "source": [
        "numbabes = [e if 1 <= e <= 5 else 5 for e in resp[\"numbabes\"] if e != 0 and e != 97]"
      ]
    },
    {
      "cell_type": "code",
      "execution_count": 67,
      "id": "92d10a12",
      "metadata": {
        "colab": {
          "base_uri": "https://localhost:8080/",
          "height": 224
        },
        "id": "92d10a12",
        "outputId": "a21ad017-3cf4-4b3e-f28f-6af7e7e65372"
      },
      "outputs": [
        {
          "output_type": "execute_result",
          "data": {
            "text/plain": [
              "1    1519\n",
              "2    1603\n",
              "3     828\n",
              "4     309\n",
              "5     154\n",
              "Name: , dtype: int64"
            ],
            "text/html": [
              "<div>\n",
              "<style scoped>\n",
              "    .dataframe tbody tr th:only-of-type {\n",
              "        vertical-align: middle;\n",
              "    }\n",
              "\n",
              "    .dataframe tbody tr th {\n",
              "        vertical-align: top;\n",
              "    }\n",
              "\n",
              "    .dataframe thead th {\n",
              "        text-align: right;\n",
              "    }\n",
              "</style>\n",
              "<table border=\"1\" class=\"dataframe\">\n",
              "  <thead>\n",
              "    <tr style=\"text-align: right;\">\n",
              "      <th></th>\n",
              "      <th></th>\n",
              "    </tr>\n",
              "  </thead>\n",
              "  <tbody>\n",
              "    <tr>\n",
              "      <th>1</th>\n",
              "      <td>1519</td>\n",
              "    </tr>\n",
              "    <tr>\n",
              "      <th>2</th>\n",
              "      <td>1603</td>\n",
              "    </tr>\n",
              "    <tr>\n",
              "      <th>3</th>\n",
              "      <td>828</td>\n",
              "    </tr>\n",
              "    <tr>\n",
              "      <th>4</th>\n",
              "      <td>309</td>\n",
              "    </tr>\n",
              "    <tr>\n",
              "      <th>5</th>\n",
              "      <td>154</td>\n",
              "    </tr>\n",
              "  </tbody>\n",
              "</table>\n",
              "</div><br><label><b>dtype:</b> int64</label>"
            ]
          },
          "metadata": {},
          "execution_count": 67
        }
      ],
      "source": [
        "numbabes_ft = FreqTab.from_seq(numbabes)\n",
        "numbabes_ft"
      ]
    },
    {
      "cell_type": "code",
      "execution_count": 69,
      "id": "9f96f3d4",
      "metadata": {
        "colab": {
          "base_uri": "https://localhost:8080/",
          "height": 224
        },
        "id": "9f96f3d4",
        "outputId": "44cfa1a9-c172-4ea8-be54-e9e8471a68c2"
      },
      "outputs": [
        {
          "output_type": "execute_result",
          "data": {
            "text/plain": [
              "1    0.344210\n",
              "2    0.363245\n",
              "3    0.187627\n",
              "4    0.070020\n",
              "5    0.034897\n",
              "Name: , dtype: float64"
            ],
            "text/html": [
              "<div>\n",
              "<style scoped>\n",
              "    .dataframe tbody tr th:only-of-type {\n",
              "        vertical-align: middle;\n",
              "    }\n",
              "\n",
              "    .dataframe tbody tr th {\n",
              "        vertical-align: top;\n",
              "    }\n",
              "\n",
              "    .dataframe thead th {\n",
              "        text-align: right;\n",
              "    }\n",
              "</style>\n",
              "<table border=\"1\" class=\"dataframe\">\n",
              "  <thead>\n",
              "    <tr style=\"text-align: right;\">\n",
              "      <th></th>\n",
              "      <th></th>\n",
              "    </tr>\n",
              "  </thead>\n",
              "  <tbody>\n",
              "    <tr>\n",
              "      <th>1</th>\n",
              "      <td>0.344210</td>\n",
              "    </tr>\n",
              "    <tr>\n",
              "      <th>2</th>\n",
              "      <td>0.363245</td>\n",
              "    </tr>\n",
              "    <tr>\n",
              "      <th>3</th>\n",
              "      <td>0.187627</td>\n",
              "    </tr>\n",
              "    <tr>\n",
              "      <th>4</th>\n",
              "      <td>0.070020</td>\n",
              "    </tr>\n",
              "    <tr>\n",
              "      <th>5</th>\n",
              "      <td>0.034897</td>\n",
              "    </tr>\n",
              "  </tbody>\n",
              "</table>\n",
              "</div><br><label><b>dtype:</b> float64</label>"
            ]
          },
          "metadata": {},
          "execution_count": 69
        }
      ],
      "source": [
        "numbabes_pmf = Pmf.from_seq(numbabes)\n",
        "numbabes_pmf"
      ]
    },
    {
      "cell_type": "code",
      "execution_count": 70,
      "id": "64937b8c",
      "metadata": {
        "colab": {
          "base_uri": "https://localhost:8080/",
          "height": 272
        },
        "id": "64937b8c",
        "outputId": "c0afcced-42a3-495d-c287-48bacf006edb"
      },
      "outputs": [
        {
          "output_type": "display_data",
          "data": {
            "text/plain": [
              "<Figure size 450x262.5 with 1 Axes>"
            ],
            "image/png": "[encoded data removed]"
          },
          "metadata": {}
        }
      ],
      "source": [
        "numbabes_pmf.bar()\n",
        "decorate(xlabel=\"Number of babies\", ylabel=\"PMF\")b"
      ]
    },
    {
      "cell_type": "code",
      "source": [
        "# Right skewed"
      ],
      "metadata": {
        "id": "DP7IlczEYv8o"
      },
      "id": "DP7IlczEYv8o",
      "execution_count": 71,
      "outputs": []
    },
    {
      "cell_type": "markdown",
      "id": "071ae7e7",
      "metadata": {
        "id": "071ae7e7"
      },
      "source": [
        "### Exercise 3.2\n",
        "\n",
        "In the same way that the mean identifies a central point in a distribution, and variance quantifies its spread, there is another statistic, called **skewness**, that indicates whether a distribution is skewed to the left or right.\n",
        "\n",
        "Given a sample, we can compute the skewness by computing the sum of the cubed deviations and dividing by the standard deviation cubed.\n",
        "For example, here's how we compute the skewness of `numbabes`.\n"
      ]
    },
    {
      "cell_type": "code",
      "execution_count": 77,
      "id": "f67d55f5",
      "metadata": {
        "id": "f67d55f5"
      },
      "outputs": [],
      "source": [
        "numbabes = resp[\"numbabes\"].replace(97, np.nan)"
      ]
    },
    {
      "cell_type": "code",
      "execution_count": 125,
      "id": "7e1b1e04",
      "metadata": {
        "colab": {
          "base_uri": "https://localhost:8080/"
        },
        "id": "7e1b1e04",
        "outputId": "84a247d3-f640-40dd-acd5-2e7f5b60fbc4"
      },
      "outputs": [
        {
          "output_type": "execute_result",
          "data": {
            "text/plain": [
              "np.float64(1.7018914266755378)"
            ]
          },
          "metadata": {},
          "execution_count": 125
        }
      ],
      "source": [
        "deviations = numbabes - numbabes.mean()\n",
        "skewness = np.mean(deviations**3) / numbabes.std(ddof = 0) ** 3\n",
        "skewness"
      ]
    },
    {
      "cell_type": "markdown",
      "id": "79f68b36",
      "metadata": {
        "id": "79f68b36"
      },
      "source": [
        "A positive value indicates that a distribution is skewed to the right, and a negative value indicates that it is skewed to the left.\n",
        "\n",
        "If you are given a `Pmf`, rather than a sequence of values, you can compute skewness like this:\n",
        "\n",
        "1. Compute the deviation of each quantity in the `Pmf` from the mean.\n",
        "\n",
        "2. Cube the deviations, multiply by the probabilities in the `Pmf`, and add up the products.\n",
        "\n",
        "3. Divide the sum by the standard deviation cubed.\n",
        "\n",
        "Write a function called `pmf_skewness` that takes a `Pmf` object and returns its skewness."
      ]
    },
    {
      "cell_type": "code",
      "source": [
        "def pmf_skewness(pmf):\n",
        "  mean = pmf.mean()\n",
        "  deviations = pmf.qs - mean\n",
        "  total = np.sum((deviations**3) * pmf.ps)\n",
        "  return total / (pmf.std() **3)\n",
        "\n",
        "\n",
        "pmf_skewness(numbabes_pmf)"
      ],
      "metadata": {
        "colab": {
          "base_uri": "https://localhost:8080/"
        },
        "id": "G_hlpHUWly6L",
        "outputId": "0522707d-f20a-429b-ef41-e091a10cfe10"
      },
      "id": "G_hlpHUWly6L",
      "execution_count": 124,
      "outputs": [
        {
          "output_type": "execute_result",
          "data": {
            "text/plain": [
              "np.float64(0.8874635228415308)"
            ]
          },
          "metadata": {},
          "execution_count": 124
        }
      ]
    },
    {
      "cell_type": "markdown",
      "id": "bbd5e64f",
      "metadata": {
        "id": "bbd5e64f"
      },
      "source": [
        "Use your function and the `Pmf` of `numbabes` to compute skewness, and confirm you get the same result we computed above."
      ]
    },
    {
      "cell_type": "markdown",
      "id": "81e26051",
      "metadata": {
        "id": "81e26051"
      },
      "source": [
        "### Exercise 3.3\n",
        "\n",
        "Something like the class size paradox appears if you survey children and ask how many children are in their family.\n",
        "Families with many children are more likely to appear in your sample, and families with no children have no chance to be in the sample at all.\n",
        "\n",
        "From `resp`, select `numkdhh`, which records the number of children under 18 in each respondent's household.\n",
        "Make a `Pmf` of the values in this column.\n",
        "\n",
        "Use the `bias` function to compute the distribution we would see if we surveyed the children and asked them how many children under 18 (including themselves) are in their household.\n",
        "\n",
        "Plot the actual and biased distributions, and compute their means."
      ]
    },
    {
      "cell_type": "code",
      "execution_count": 140,
      "id": "8a263d8e",
      "metadata": {
        "id": "8a263d8e"
      },
      "outputs": [],
      "source": [
        "num_child = resp[\"numkdhh\"]"
      ]
    },
    {
      "cell_type": "code",
      "source": [
        "num_child"
      ],
      "metadata": {
        "colab": {
          "base_uri": "https://localhost:8080/",
          "height": 458
        },
        "id": "VNueqrWe0NjC",
        "outputId": "d41e0497-cb55-434a-e408-42776715c2ba"
      },
      "id": "VNueqrWe0NjC",
      "execution_count": 141,
      "outputs": [
        {
          "output_type": "execute_result",
          "data": {
            "text/plain": [
              "0       3\n",
              "1       0\n",
              "2       0\n",
              "3       0\n",
              "4       0\n",
              "       ..\n",
              "7638    0\n",
              "7639    0\n",
              "7640    0\n",
              "7641    0\n",
              "7642    0\n",
              "Name: numkdhh, Length: 7643, dtype: int64"
            ],
            "text/html": [
              "<div>\n",
              "<style scoped>\n",
              "    .dataframe tbody tr th:only-of-type {\n",
              "        vertical-align: middle;\n",
              "    }\n",
              "\n",
              "    .dataframe tbody tr th {\n",
              "        vertical-align: top;\n",
              "    }\n",
              "\n",
              "    .dataframe thead th {\n",
              "        text-align: right;\n",
              "    }\n",
              "</style>\n",
              "<table border=\"1\" class=\"dataframe\">\n",
              "  <thead>\n",
              "    <tr style=\"text-align: right;\">\n",
              "      <th></th>\n",
              "      <th>numkdhh</th>\n",
              "    </tr>\n",
              "  </thead>\n",
              "  <tbody>\n",
              "    <tr>\n",
              "      <th>0</th>\n",
              "      <td>3</td>\n",
              "    </tr>\n",
              "    <tr>\n",
              "      <th>1</th>\n",
              "      <td>0</td>\n",
              "    </tr>\n",
              "    <tr>\n",
              "      <th>2</th>\n",
              "      <td>0</td>\n",
              "    </tr>\n",
              "    <tr>\n",
              "      <th>3</th>\n",
              "      <td>0</td>\n",
              "    </tr>\n",
              "    <tr>\n",
              "      <th>4</th>\n",
              "      <td>0</td>\n",
              "    </tr>\n",
              "    <tr>\n",
              "      <th>...</th>\n",
              "      <td>...</td>\n",
              "    </tr>\n",
              "    <tr>\n",
              "      <th>7638</th>\n",
              "      <td>0</td>\n",
              "    </tr>\n",
              "    <tr>\n",
              "      <th>7639</th>\n",
              "      <td>0</td>\n",
              "    </tr>\n",
              "    <tr>\n",
              "      <th>7640</th>\n",
              "      <td>0</td>\n",
              "    </tr>\n",
              "    <tr>\n",
              "      <th>7641</th>\n",
              "      <td>0</td>\n",
              "    </tr>\n",
              "    <tr>\n",
              "      <th>7642</th>\n",
              "      <td>0</td>\n",
              "    </tr>\n",
              "  </tbody>\n",
              "</table>\n",
              "<p>7643 rows × 1 columns</p>\n",
              "</div><br><label><b>dtype:</b> int64</label>"
            ]
          },
          "metadata": {},
          "execution_count": 141
        }
      ]
    },
    {
      "cell_type": "code",
      "source": [
        "num_child_ft = FreqTab.from_seq(num_child)\n",
        "num_child_ft"
      ],
      "metadata": {
        "colab": {
          "base_uri": "https://localhost:8080/",
          "height": 286
        },
        "id": "ZKgVD8W0yzjW",
        "outputId": "8cebb849-7124-45e2-cd54-c958a1024496"
      },
      "id": "ZKgVD8W0yzjW",
      "execution_count": 142,
      "outputs": [
        {
          "output_type": "execute_result",
          "data": {
            "text/plain": [
              "numkdhh\n",
              "0    3563\n",
              "1    1636\n",
              "2    1500\n",
              "3     666\n",
              "4     196\n",
              "5      82\n",
              "Name: , dtype: int64"
            ],
            "text/html": [
              "<div>\n",
              "<style scoped>\n",
              "    .dataframe tbody tr th:only-of-type {\n",
              "        vertical-align: middle;\n",
              "    }\n",
              "\n",
              "    .dataframe tbody tr th {\n",
              "        vertical-align: top;\n",
              "    }\n",
              "\n",
              "    .dataframe thead th {\n",
              "        text-align: right;\n",
              "    }\n",
              "</style>\n",
              "<table border=\"1\" class=\"dataframe\">\n",
              "  <thead>\n",
              "    <tr style=\"text-align: right;\">\n",
              "      <th></th>\n",
              "      <th></th>\n",
              "    </tr>\n",
              "    <tr>\n",
              "      <th>numkdhh</th>\n",
              "      <th></th>\n",
              "    </tr>\n",
              "  </thead>\n",
              "  <tbody>\n",
              "    <tr>\n",
              "      <th>0</th>\n",
              "      <td>3563</td>\n",
              "    </tr>\n",
              "    <tr>\n",
              "      <th>1</th>\n",
              "      <td>1636</td>\n",
              "    </tr>\n",
              "    <tr>\n",
              "      <th>2</th>\n",
              "      <td>1500</td>\n",
              "    </tr>\n",
              "    <tr>\n",
              "      <th>3</th>\n",
              "      <td>666</td>\n",
              "    </tr>\n",
              "    <tr>\n",
              "      <th>4</th>\n",
              "      <td>196</td>\n",
              "    </tr>\n",
              "    <tr>\n",
              "      <th>5</th>\n",
              "      <td>82</td>\n",
              "    </tr>\n",
              "  </tbody>\n",
              "</table>\n",
              "</div><br><label><b>dtype:</b> int64</label>"
            ]
          },
          "metadata": {},
          "execution_count": 142
        }
      ]
    },
    {
      "cell_type": "code",
      "execution_count": 143,
      "id": "019396ef",
      "metadata": {
        "id": "019396ef"
      },
      "outputs": [],
      "source": [
        "num_child_pmf = Pmf.from_seq(num_child)"
      ]
    },
    {
      "cell_type": "code",
      "source": [
        "num_child_pmf"
      ],
      "metadata": {
        "colab": {
          "base_uri": "https://localhost:8080/",
          "height": 286
        },
        "id": "-vTuzOKTypDw",
        "outputId": "51cca8e8-1964-4717-9f9c-51b9dd10bd68"
      },
      "id": "-vTuzOKTypDw",
      "execution_count": 144,
      "outputs": [
        {
          "output_type": "execute_result",
          "data": {
            "text/plain": [
              "numkdhh\n",
              "0    0.466178\n",
              "1    0.214052\n",
              "2    0.196258\n",
              "3    0.087139\n",
              "4    0.025644\n",
              "5    0.010729\n",
              "Name: , dtype: float64"
            ],
            "text/html": [
              "<div>\n",
              "<style scoped>\n",
              "    .dataframe tbody tr th:only-of-type {\n",
              "        vertical-align: middle;\n",
              "    }\n",
              "\n",
              "    .dataframe tbody tr th {\n",
              "        vertical-align: top;\n",
              "    }\n",
              "\n",
              "    .dataframe thead th {\n",
              "        text-align: right;\n",
              "    }\n",
              "</style>\n",
              "<table border=\"1\" class=\"dataframe\">\n",
              "  <thead>\n",
              "    <tr style=\"text-align: right;\">\n",
              "      <th></th>\n",
              "      <th></th>\n",
              "    </tr>\n",
              "    <tr>\n",
              "      <th>numkdhh</th>\n",
              "      <th></th>\n",
              "    </tr>\n",
              "  </thead>\n",
              "  <tbody>\n",
              "    <tr>\n",
              "      <th>0</th>\n",
              "      <td>0.466178</td>\n",
              "    </tr>\n",
              "    <tr>\n",
              "      <th>1</th>\n",
              "      <td>0.214052</td>\n",
              "    </tr>\n",
              "    <tr>\n",
              "      <th>2</th>\n",
              "      <td>0.196258</td>\n",
              "    </tr>\n",
              "    <tr>\n",
              "      <th>3</th>\n",
              "      <td>0.087139</td>\n",
              "    </tr>\n",
              "    <tr>\n",
              "      <th>4</th>\n",
              "      <td>0.025644</td>\n",
              "    </tr>\n",
              "    <tr>\n",
              "      <th>5</th>\n",
              "      <td>0.010729</td>\n",
              "    </tr>\n",
              "  </tbody>\n",
              "</table>\n",
              "</div><br><label><b>dtype:</b> float64</label>"
            ]
          },
          "metadata": {},
          "execution_count": 144
        }
      ]
    },
    {
      "cell_type": "code",
      "execution_count": 148,
      "id": "064c0161",
      "metadata": {
        "id": "064c0161"
      },
      "outputs": [],
      "source": [
        "num_child_pmf_biased = bias(num_child_pmf, \"biased\")"
      ]
    },
    {
      "cell_type": "code",
      "source": [
        "two_bar_plots(num_child_pmf, num_child_pmf_biased)"
      ],
      "metadata": {
        "colab": {
          "base_uri": "https://localhost:8080/",
          "height": 272
        },
        "id": "139iikIt1QsE",
        "outputId": "cff3ca60-985b-4959-be93-a6190657e503"
      },
      "id": "139iikIt1QsE",
      "execution_count": 153,
      "outputs": [
        {
          "output_type": "display_data",
          "data": {
            "text/plain": [
              "<Figure size 450x262.5 with 1 Axes>"
            ],
            "image/png": "[encoded data removed]"
          },
          "metadata": {}
        }
      ]
    },
    {
      "cell_type": "markdown",
      "id": "e27da3a4",
      "metadata": {
        "tags": [],
        "id": "e27da3a4"
      },
      "source": [
        "[Think Stats: Exploratory Data Analysis in Python, 3rd Edition](https://allendowney.github.io/ThinkStats/index.html)\n",
        "\n",
        "Copyright 2024 [Allen B. Downey](https://allendowney.com)\n",
        "\n",
        "Code license: [MIT License](https://mit-license.org/)\n",
        "\n",
        "Text license: [Creative Commons Attribution-NonCommercial-ShareAlike 4.0 International](https://creativecommons.org/licenses/by-nc-sa/4.0/)"
      ]
    }
  ],
  "metadata": {
    "celltoolbar": "Tags",
    "kernelspec": {
      "display_name": "Python 3 (ipykernel)",
      "language": "python",
      "name": "python3"
    },
    "language_info": {
      "codemirror_mode": {
        "name": "ipython",
        "version": 3
      },
      "file_extension": ".py",
      "mimetype": "text/x-python",
      "name": "python",
      "nbconvert_exporter": "python",
      "pygments_lexer": "ipython3",
      "version": "3.11.0"
    },
    "colab": {
      "provenance": []
    }
  },
  "nbformat": 4,
  "nbformat_minor": 5
}